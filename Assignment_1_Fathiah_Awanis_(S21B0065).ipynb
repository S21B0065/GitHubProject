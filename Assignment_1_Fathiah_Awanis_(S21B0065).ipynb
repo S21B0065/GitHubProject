{
  "nbformat": 4,
  "nbformat_minor": 0,
  "metadata": {
    "colab": {
      "provenance": [],
      "authorship_tag": "ABX9TyPE1KvSIrBaCmcbzHcfl8q6",
      "include_colab_link": true
    },
    "kernelspec": {
      "name": "python3",
      "display_name": "Python 3"
    },
    "language_info": {
      "name": "python"
    }
  },
  "cells": [
    {
      "cell_type": "markdown",
      "metadata": {
        "id": "view-in-github",
        "colab_type": "text"
      },
      "source": [
        "<a href=\"https://colab.research.google.com/github/S21B0065/GitHubProject/blob/main/Assignment_1_Fathiah_Awanis_(S21B0065).ipynb\" target=\"_parent\"><img src=\"https://colab.research.google.com/assets/colab-badge.svg\" alt=\"Open In Colab\"/></a>"
      ]
    },
    {
      "cell_type": "code",
      "execution_count": 1,
      "metadata": {
        "id": "Fb7DAoPUMtDs"
      },
      "outputs": [],
      "source": [
        "import pandas as pd\n",
        "import matplotlib.pyplot as plt"
      ]
    },
    {
      "cell_type": "code",
      "source": [
        "\n",
        "from google.colab import files\n",
        "\n",
        "\n",
        "uploaded = files.upload()"
      ],
      "metadata": {
        "colab": {
          "base_uri": "https://localhost:8080/",
          "height": 73
        },
        "id": "gk8p_LLcM3AZ",
        "outputId": "d548ec52-789a-40a4-b522-ca507cf825db"
      },
      "execution_count": 2,
      "outputs": [
        {
          "output_type": "display_data",
          "data": {
            "text/plain": [
              "<IPython.core.display.HTML object>"
            ],
            "text/html": [
              "\n",
              "     <input type=\"file\" id=\"files-581af139-ada9-40e7-b7f9-a6ffe77378da\" name=\"files[]\" multiple disabled\n",
              "        style=\"border:none\" />\n",
              "     <output id=\"result-581af139-ada9-40e7-b7f9-a6ffe77378da\">\n",
              "      Upload widget is only available when the cell has been executed in the\n",
              "      current browser session. Please rerun this cell to enable.\n",
              "      </output>\n",
              "      <script>// Copyright 2017 Google LLC\n",
              "//\n",
              "// Licensed under the Apache License, Version 2.0 (the \"License\");\n",
              "// you may not use this file except in compliance with the License.\n",
              "// You may obtain a copy of the License at\n",
              "//\n",
              "//      http://www.apache.org/licenses/LICENSE-2.0\n",
              "//\n",
              "// Unless required by applicable law or agreed to in writing, software\n",
              "// distributed under the License is distributed on an \"AS IS\" BASIS,\n",
              "// WITHOUT WARRANTIES OR CONDITIONS OF ANY KIND, either express or implied.\n",
              "// See the License for the specific language governing permissions and\n",
              "// limitations under the License.\n",
              "\n",
              "/**\n",
              " * @fileoverview Helpers for google.colab Python module.\n",
              " */\n",
              "(function(scope) {\n",
              "function span(text, styleAttributes = {}) {\n",
              "  const element = document.createElement('span');\n",
              "  element.textContent = text;\n",
              "  for (const key of Object.keys(styleAttributes)) {\n",
              "    element.style[key] = styleAttributes[key];\n",
              "  }\n",
              "  return element;\n",
              "}\n",
              "\n",
              "// Max number of bytes which will be uploaded at a time.\n",
              "const MAX_PAYLOAD_SIZE = 100 * 1024;\n",
              "\n",
              "function _uploadFiles(inputId, outputId) {\n",
              "  const steps = uploadFilesStep(inputId, outputId);\n",
              "  const outputElement = document.getElementById(outputId);\n",
              "  // Cache steps on the outputElement to make it available for the next call\n",
              "  // to uploadFilesContinue from Python.\n",
              "  outputElement.steps = steps;\n",
              "\n",
              "  return _uploadFilesContinue(outputId);\n",
              "}\n",
              "\n",
              "// This is roughly an async generator (not supported in the browser yet),\n",
              "// where there are multiple asynchronous steps and the Python side is going\n",
              "// to poll for completion of each step.\n",
              "// This uses a Promise to block the python side on completion of each step,\n",
              "// then passes the result of the previous step as the input to the next step.\n",
              "function _uploadFilesContinue(outputId) {\n",
              "  const outputElement = document.getElementById(outputId);\n",
              "  const steps = outputElement.steps;\n",
              "\n",
              "  const next = steps.next(outputElement.lastPromiseValue);\n",
              "  return Promise.resolve(next.value.promise).then((value) => {\n",
              "    // Cache the last promise value to make it available to the next\n",
              "    // step of the generator.\n",
              "    outputElement.lastPromiseValue = value;\n",
              "    return next.value.response;\n",
              "  });\n",
              "}\n",
              "\n",
              "/**\n",
              " * Generator function which is called between each async step of the upload\n",
              " * process.\n",
              " * @param {string} inputId Element ID of the input file picker element.\n",
              " * @param {string} outputId Element ID of the output display.\n",
              " * @return {!Iterable<!Object>} Iterable of next steps.\n",
              " */\n",
              "function* uploadFilesStep(inputId, outputId) {\n",
              "  const inputElement = document.getElementById(inputId);\n",
              "  inputElement.disabled = false;\n",
              "\n",
              "  const outputElement = document.getElementById(outputId);\n",
              "  outputElement.innerHTML = '';\n",
              "\n",
              "  const pickedPromise = new Promise((resolve) => {\n",
              "    inputElement.addEventListener('change', (e) => {\n",
              "      resolve(e.target.files);\n",
              "    });\n",
              "  });\n",
              "\n",
              "  const cancel = document.createElement('button');\n",
              "  inputElement.parentElement.appendChild(cancel);\n",
              "  cancel.textContent = 'Cancel upload';\n",
              "  const cancelPromise = new Promise((resolve) => {\n",
              "    cancel.onclick = () => {\n",
              "      resolve(null);\n",
              "    };\n",
              "  });\n",
              "\n",
              "  // Wait for the user to pick the files.\n",
              "  const files = yield {\n",
              "    promise: Promise.race([pickedPromise, cancelPromise]),\n",
              "    response: {\n",
              "      action: 'starting',\n",
              "    }\n",
              "  };\n",
              "\n",
              "  cancel.remove();\n",
              "\n",
              "  // Disable the input element since further picks are not allowed.\n",
              "  inputElement.disabled = true;\n",
              "\n",
              "  if (!files) {\n",
              "    return {\n",
              "      response: {\n",
              "        action: 'complete',\n",
              "      }\n",
              "    };\n",
              "  }\n",
              "\n",
              "  for (const file of files) {\n",
              "    const li = document.createElement('li');\n",
              "    li.append(span(file.name, {fontWeight: 'bold'}));\n",
              "    li.append(span(\n",
              "        `(${file.type || 'n/a'}) - ${file.size} bytes, ` +\n",
              "        `last modified: ${\n",
              "            file.lastModifiedDate ? file.lastModifiedDate.toLocaleDateString() :\n",
              "                                    'n/a'} - `));\n",
              "    const percent = span('0% done');\n",
              "    li.appendChild(percent);\n",
              "\n",
              "    outputElement.appendChild(li);\n",
              "\n",
              "    const fileDataPromise = new Promise((resolve) => {\n",
              "      const reader = new FileReader();\n",
              "      reader.onload = (e) => {\n",
              "        resolve(e.target.result);\n",
              "      };\n",
              "      reader.readAsArrayBuffer(file);\n",
              "    });\n",
              "    // Wait for the data to be ready.\n",
              "    let fileData = yield {\n",
              "      promise: fileDataPromise,\n",
              "      response: {\n",
              "        action: 'continue',\n",
              "      }\n",
              "    };\n",
              "\n",
              "    // Use a chunked sending to avoid message size limits. See b/62115660.\n",
              "    let position = 0;\n",
              "    do {\n",
              "      const length = Math.min(fileData.byteLength - position, MAX_PAYLOAD_SIZE);\n",
              "      const chunk = new Uint8Array(fileData, position, length);\n",
              "      position += length;\n",
              "\n",
              "      const base64 = btoa(String.fromCharCode.apply(null, chunk));\n",
              "      yield {\n",
              "        response: {\n",
              "          action: 'append',\n",
              "          file: file.name,\n",
              "          data: base64,\n",
              "        },\n",
              "      };\n",
              "\n",
              "      let percentDone = fileData.byteLength === 0 ?\n",
              "          100 :\n",
              "          Math.round((position / fileData.byteLength) * 100);\n",
              "      percent.textContent = `${percentDone}% done`;\n",
              "\n",
              "    } while (position < fileData.byteLength);\n",
              "  }\n",
              "\n",
              "  // All done.\n",
              "  yield {\n",
              "    response: {\n",
              "      action: 'complete',\n",
              "    }\n",
              "  };\n",
              "}\n",
              "\n",
              "scope.google = scope.google || {};\n",
              "scope.google.colab = scope.google.colab || {};\n",
              "scope.google.colab._files = {\n",
              "  _uploadFiles,\n",
              "  _uploadFilesContinue,\n",
              "};\n",
              "})(self);\n",
              "</script> "
            ]
          },
          "metadata": {}
        },
        {
          "output_type": "stream",
          "name": "stdout",
          "text": [
            "Saving All Stock Prices.csv to All Stock Prices.csv\n"
          ]
        }
      ]
    },
    {
      "cell_type": "code",
      "source": [
        "data = pd.read_csv('All Stock Prices.csv')"
      ],
      "metadata": {
        "id": "msR2qZWUN5WU"
      },
      "execution_count": 3,
      "outputs": []
    },
    {
      "cell_type": "code",
      "source": [
        "print(data)"
      ],
      "metadata": {
        "colab": {
          "base_uri": "https://localhost:8080/"
        },
        "id": "NTHi0qUIN96z",
        "outputId": "0321575c-cbfb-4caa-d318-c35c59945924"
      },
      "execution_count": 4,
      "outputs": [
        {
          "output_type": "stream",
          "name": "stdout",
          "text": [
            "                      company_public stock_ticker yahoo_finance_ticker  \\\n",
            "0                          AEX-Index         ^AEX                 ^AEX   \n",
            "1       Austrian Traded Index in EUR         ^ATX                 ^ATX   \n",
            "2          S&P/ASX ALL AUSTRALIAN 50        ^AXAF                ^AXAF   \n",
            "3         S&P/ASX ALL AUSTRALIAN 200        ^AXAT                ^AXAT   \n",
            "4              S&P/ASX 200 Cons Disc        ^AXDJ                ^AXDJ   \n",
            "...                              ...          ...                  ...   \n",
            "45724                         Zynex,         ZYXI                 ZYXI   \n",
            "45725             Cinemark Holdings,          ZZA                ZZA.F   \n",
            "45726    Information Services Group,          ZZG                ZZG.F   \n",
            "45727                    Commerzbank         ZZMS               ZZMS.F   \n",
            "45728  Sleep Country Canada Holdings          ZZZ               ZZZ.TO   \n",
            "\n",
            "      currency exchange  opening_price  highest_price  lowest_price  \\\n",
            "0          EUR      AMS         730.65         731.91        721.29   \n",
            "1          EUR      VIE        3170.08        3191.83       3118.64   \n",
            "2          AUD      ASX        7160.40        7160.40       7118.60   \n",
            "3          AUD      ASX        7046.60        7049.90       7013.10   \n",
            "4          AUD      ASX        3062.90        3068.40       3034.40   \n",
            "...        ...      ...            ...            ...           ...   \n",
            "45724      USD      NMS           8.02           8.14          7.98   \n",
            "45725      EUR      FRA          17.20          17.20         17.20   \n",
            "45726      EUR      FRA           4.14           4.14          4.14   \n",
            "45727      EUR      FRA          10.50          10.70         10.50   \n",
            "45728      CAD      TOR          23.12          23.19         22.64   \n",
            "\n",
            "       closing_price  adjusted_closing_price  traded_shares  \\\n",
            "0             724.18                  724.18          43000   \n",
            "1            3128.03                 3128.03        3145900   \n",
            "2            7129.60                 7129.60              0   \n",
            "3            7032.00                 7032.00         483100   \n",
            "4            3035.20                 3035.20       27580900   \n",
            "...              ...                     ...            ...   \n",
            "45724           8.07                    8.07         321841   \n",
            "45725          17.20                   17.20              0   \n",
            "45726           4.14                    4.14              0   \n",
            "45727          10.70                   10.70            250   \n",
            "45728          22.75                   22.75          33281   \n",
            "\n",
            "                          company  \n",
            "0                             NaN  \n",
            "1                             NaN  \n",
            "2                             NaN  \n",
            "3                             NaN  \n",
            "4                             NaN  \n",
            "...                           ...  \n",
            "45724                       Zynex  \n",
            "45725                    Cinemark  \n",
            "45726  Information Services Group  \n",
            "45727                 Commerzbank  \n",
            "45728        Sleep Country Canada  \n",
            "\n",
            "[45729 rows x 12 columns]\n"
          ]
        }
      ]
    },
    {
      "cell_type": "code",
      "source": [
        "print(data.info())"
      ],
      "metadata": {
        "colab": {
          "base_uri": "https://localhost:8080/"
        },
        "id": "vx5g_Aj4OAtV",
        "outputId": "97c8854a-7bfd-4849-dd45-4bfc64ece90b"
      },
      "execution_count": 5,
      "outputs": [
        {
          "output_type": "stream",
          "name": "stdout",
          "text": [
            "<class 'pandas.core.frame.DataFrame'>\n",
            "RangeIndex: 45729 entries, 0 to 45728\n",
            "Data columns (total 12 columns):\n",
            " #   Column                  Non-Null Count  Dtype  \n",
            "---  ------                  --------------  -----  \n",
            " 0   company_public          45722 non-null  object \n",
            " 1   stock_ticker            45728 non-null  object \n",
            " 2   yahoo_finance_ticker    45729 non-null  object \n",
            " 3   currency                45722 non-null  object \n",
            " 4   exchange                45722 non-null  object \n",
            " 5   opening_price           45729 non-null  float64\n",
            " 6   highest_price           45729 non-null  float64\n",
            " 7   lowest_price            45729 non-null  float64\n",
            " 8   closing_price           45729 non-null  float64\n",
            " 9   adjusted_closing_price  45601 non-null  float64\n",
            " 10  traded_shares           45729 non-null  int64  \n",
            " 11  company                 2232 non-null   object \n",
            "dtypes: float64(5), int64(1), object(6)\n",
            "memory usage: 4.2+ MB\n",
            "None\n"
          ]
        }
      ]
    },
    {
      "cell_type": "code",
      "source": [
        "import pandas as pd\n",
        "\n",
        "# Read the CSV file into a DataFrame\n",
        "df = pd.read_csv(\"All Stock Prices.csv\")\n",
        "\n",
        "# Calculate mean, median, mode, and standard deviation of the opening_price variable\n",
        "mean = df[\"opening_price\"].mean()\n",
        "median = df[\"opening_price\"].median()\n",
        "mode = df[\"opening_price\"].mode()[0]\n",
        "std_dev = df[\"opening_price\"].std()\n",
        "\n",
        "# Print the results\n",
        "print(f\"Mean: {mean}\")\n",
        "print(f\"Median: {median}\")\n",
        "print(f\"Mode: {mode}\")\n",
        "print(f\"Standard deviation: {std_dev}\")"
      ],
      "metadata": {
        "colab": {
          "base_uri": "https://localhost:8080/"
        },
        "id": "1pYmmANUOOKV",
        "outputId": "f4a836bf-f3c2-4804-844e-5f522b1294eb"
      },
      "execution_count": 6,
      "outputs": [
        {
          "output_type": "stream",
          "name": "stdout",
          "text": [
            "Mean: 2890110.0467886524\n",
            "Median: 14.16\n",
            "Mode: 0.0\n",
            "Standard deviation: 387522636.2952694\n"
          ]
        }
      ]
    },
    {
      "cell_type": "code",
      "source": [
        "import pandas as pd\n",
        "\n",
        "# Read the CSV file into a DataFrame\n",
        "df = pd.read_csv(\"All Stock Prices.csv\")\n",
        "\n",
        "# Calculate mean, median, mode, and standard deviation of the closing_price variable\n",
        "mean = df[\"closing_price\"].mean()\n",
        "median = df[\"closing_price\"].median()\n",
        "mode = df[\"closing_price\"].mode()[0]\n",
        "std_dev = df[\"closing_price\"].std()\n",
        "\n",
        "# Print the results\n",
        "print(f\"Mean: {mean}\")\n",
        "print(f\"Median: {median}\")\n",
        "print(f\"Mode: {mode}\")\n",
        "print(f\"Standard deviation: {std_dev}\")"
      ],
      "metadata": {
        "colab": {
          "base_uri": "https://localhost:8080/"
        },
        "id": "RGtYbLkiOPhT",
        "outputId": "fbb8361d-cf53-44b6-a911-57dfe270cb4b"
      },
      "execution_count": 7,
      "outputs": [
        {
          "output_type": "stream",
          "name": "stdout",
          "text": [
            "Mean: 2877338.9123914693\n",
            "Median: 14.81\n",
            "Mode: 0.0001\n",
            "Standard deviation: 385697499.9872388\n"
          ]
        }
      ]
    },
    {
      "cell_type": "code",
      "source": [
        "import pandas as pd\n",
        "\n",
        "# Read the CSV file into a DataFrame\n",
        "df = pd.read_csv(\"All Stock Prices.csv\")\n",
        "\n",
        "# Calculate mean, median, mode, and standard deviation of the highest_price variable\n",
        "mean = df[\"highest_price\"].mean()\n",
        "median = df[\"highest_price\"].median()\n",
        "mode = df[\"highest_price\"].mode()[0]\n",
        "std_dev = df[\"highest_price\"].std()\n",
        "\n",
        "# Print the results\n",
        "print(f\"Mean: {mean}\")\n",
        "print(f\"Median: {median}\")\n",
        "print(f\"Mode: {mode}\")\n",
        "print(f\"Standard deviation: {std_dev}\")"
      ],
      "metadata": {
        "colab": {
          "base_uri": "https://localhost:8080/"
        },
        "id": "MXcFdo2DOUTA",
        "outputId": "6893369a-2dec-42d0-bac2-ddcc5819e511"
      },
      "execution_count": 8,
      "outputs": [
        {
          "output_type": "stream",
          "name": "stdout",
          "text": [
            "Mean: 2891975.3312000553\n",
            "Median: 14.27\n",
            "Mode: 0.0\n",
            "Standard deviation: 387775891.0379805\n"
          ]
        }
      ]
    },
    {
      "cell_type": "code",
      "source": [
        "import pandas as pd\n",
        "\n",
        "# Read the CSV file into a DataFrame\n",
        "df = pd.read_csv(\"All Stock Prices.csv\")\n",
        "\n",
        "# Calculate mean, median, mode, and standard deviation of the lowest_price variable\n",
        "mean = df[\"lowest_price\"].mean()\n",
        "median = df[\"lowest_price\"].median()\n",
        "mode = df[\"lowest_price\"].mode()[0]\n",
        "std_dev = df[\"lowest_price\"].std()\n",
        "\n",
        "# Print the results\n",
        "print(f\"Mean: {mean}\")\n",
        "print(f\"Median: {median}\")\n",
        "print(f\"Mode: {mode}\")\n",
        "print(f\"Standard deviation: {std_dev}\")"
      ],
      "metadata": {
        "colab": {
          "base_uri": "https://localhost:8080/"
        },
        "id": "qiBiDvbFOYKu",
        "outputId": "9f581d52-ce36-4110-99a7-eed30320387a"
      },
      "execution_count": 9,
      "outputs": [
        {
          "output_type": "stream",
          "name": "stdout",
          "text": [
            "Mean: 2877316.5630307305\n",
            "Median: 14.0\n",
            "Mode: 0.0\n",
            "Standard deviation: 385697500.1461062\n"
          ]
        }
      ]
    },
    {
      "cell_type": "code",
      "source": [
        "import pandas as pd\n",
        "\n",
        "# Read the CSV file into a DataFrame\n",
        "df = pd.read_csv(\"All Stock Prices.csv\")\n",
        "\n",
        "# Calculate mean, median, mode, and standard deviation of the adjusted_closing_price variable\n",
        "mean = df[\"adjusted_closing_price\"].mean()\n",
        "median = df[\"adjusted_closing_price\"].median()\n",
        "mode = df[\"adjusted_closing_price\"].mode()[0]\n",
        "std_dev = df[\"adjusted_closing_price\"].std()\n",
        "\n",
        "# Print the results\n",
        "print(f\"Mean: {mean}\")\n",
        "print(f\"Median: {median}\")\n",
        "print(f\"Mode: {mode}\")\n",
        "print(f\"Standard deviation: {std_dev}\")"
      ],
      "metadata": {
        "colab": {
          "base_uri": "https://localhost:8080/"
        },
        "id": "EIenjbTtOdfX",
        "outputId": "98756eed-2b0a-45ce-dcd9-acc20de16ce3"
      },
      "execution_count": 10,
      "outputs": [
        {
          "output_type": "stream",
          "name": "stdout",
          "text": [
            "Mean: 2885414.9864421724\n",
            "Median: 14.81\n",
            "Mode: 0.0001\n",
            "Standard deviation: 386238420.29822415\n"
          ]
        }
      ]
    },
    {
      "cell_type": "code",
      "source": [
        "import pandas as pd\n",
        "\n",
        "# Read the CSV file into a DataFrame\n",
        "df = pd.read_csv(\"All Stock Prices.csv\")\n",
        "\n",
        "# Calculate mean, median, mode, and standard deviation of the traded_shares variable\n",
        "mean = df[\"traded_shares\"].mean()\n",
        "median = df[\"traded_shares\"].median()\n",
        "mode = df[\"traded_shares\"].mode()[0]\n",
        "std_dev = df[\"traded_shares\"].std()\n",
        "\n",
        "# Print the results\n",
        "print(f\"Mean: {mean}\")\n",
        "print(f\"Median: {median}\")\n",
        "print(f\"Mode: {mode}\")\n",
        "print(f\"Standard deviation: {std_dev}\")"
      ],
      "metadata": {
        "colab": {
          "base_uri": "https://localhost:8080/"
        },
        "id": "xXtIlD16PLOM",
        "outputId": "af7bde41-5c5d-4103-b6bc-057fa8f8f266"
      },
      "execution_count": 18,
      "outputs": [
        {
          "output_type": "stream",
          "name": "stdout",
          "text": [
            "Mean: 2379323.851450939\n",
            "Median: 12924.0\n",
            "Mode: 0\n",
            "Standard deviation: 29929684.63409157\n"
          ]
        }
      ]
    },
    {
      "cell_type": "code",
      "source": [
        "import pandas as pd\n",
        "\n",
        "# Read the data into a DataFrame\n",
        "df = pd.read_csv(\"All Stock Prices.csv\")\n",
        "\n",
        "# Calculate the IQR of the opening_price column\n",
        "col = \"opening_price\"\n",
        "quartiles = df[col].quantile([0.25, 0.75])\n",
        "iqr = quartiles[0.75] - quartiles[0.25]\n",
        "\n",
        "# Print the IQR to the console\n",
        "print(iqr)"
      ],
      "metadata": {
        "colab": {
          "base_uri": "https://localhost:8080/"
        },
        "id": "TmIIqarzOmPb",
        "outputId": "af4f31ce-e3d0-448c-c916-73d73f8ad0f3"
      },
      "execution_count": 11,
      "outputs": [
        {
          "output_type": "stream",
          "name": "stdout",
          "text": [
            "79.34\n"
          ]
        }
      ]
    },
    {
      "cell_type": "code",
      "source": [
        "import pandas as pd\n",
        "\n",
        "# Read the data into a DataFrame\n",
        "df = pd.read_csv(\"All Stock Prices.csv\")\n",
        "\n",
        "# Calculate the IQR of the closing_price column\n",
        "col = \"closing_price\"\n",
        "quartiles = df[col].quantile([0.25, 0.75])\n",
        "iqr = quartiles[0.75] - quartiles[0.25]\n",
        "\n",
        "# Print the IQR to the console\n",
        "print(iqr)"
      ],
      "metadata": {
        "colab": {
          "base_uri": "https://localhost:8080/"
        },
        "id": "N8GgpLcOOnt9",
        "outputId": "14c4290b-32ed-4a35-962c-3e5f5cf32568"
      },
      "execution_count": 12,
      "outputs": [
        {
          "output_type": "stream",
          "name": "stdout",
          "text": [
            "81.3\n"
          ]
        }
      ]
    },
    {
      "cell_type": "code",
      "source": [
        "import pandas as pd\n",
        "\n",
        "# Read the data into a DataFrame\n",
        "df = pd.read_csv(\"All Stock Prices.csv\")\n",
        "\n",
        "# Calculate the IQR of the highest_price column\n",
        "col = \"highest_price\"\n",
        "quartiles = df[col].quantile([0.25, 0.75])\n",
        "iqr = quartiles[0.75] - quartiles[0.25]\n",
        "\n",
        "# Print the IQR to the console\n",
        "print(iqr)"
      ],
      "metadata": {
        "colab": {
          "base_uri": "https://localhost:8080/"
        },
        "id": "F4TdUUR0Orwt",
        "outputId": "954b756f-3dba-4a73-aa7d-79a51f56b4fc"
      },
      "execution_count": 13,
      "outputs": [
        {
          "output_type": "stream",
          "name": "stdout",
          "text": [
            "79.75999999999999\n"
          ]
        }
      ]
    },
    {
      "cell_type": "code",
      "source": [
        "import pandas as pd\n",
        "\n",
        "# Read the data into a DataFrame\n",
        "df = pd.read_csv(\"All Stock Prices.csv\")\n",
        "\n",
        "# Calculate the IQR of the lowest_price column\n",
        "col = \"lowest_price\"\n",
        "quartiles = df[col].quantile([0.25, 0.75])\n",
        "iqr = quartiles[0.75] - quartiles[0.25]\n",
        "\n",
        "# Print the IQR to the console\n",
        "print(iqr)"
      ],
      "metadata": {
        "colab": {
          "base_uri": "https://localhost:8080/"
        },
        "id": "WDv0aMR0Ox4u",
        "outputId": "8f2d405b-4c7f-492b-98e5-b7dda329d0cc"
      },
      "execution_count": 14,
      "outputs": [
        {
          "output_type": "stream",
          "name": "stdout",
          "text": [
            "78.4\n"
          ]
        }
      ]
    },
    {
      "cell_type": "code",
      "source": [
        "import pandas as pd\n",
        "\n",
        "# Read the data into a DataFrame\n",
        "df = pd.read_csv(\"All Stock Prices.csv\")\n",
        "\n",
        "# Calculate the IQR of the adjusted_closing_price column\n",
        "col = \"adjusted_closing_price\"\n",
        "quartiles = df[col].quantile([0.25, 0.75])\n",
        "iqr = quartiles[0.75] - quartiles[0.25]\n",
        "\n",
        "# Print the IQR to the console\n",
        "print(iqr)"
      ],
      "metadata": {
        "colab": {
          "base_uri": "https://localhost:8080/"
        },
        "id": "ivSe-2RAO6jc",
        "outputId": "6af2c0fc-ffd7-4684-cbf2-d247df65391a"
      },
      "execution_count": 16,
      "outputs": [
        {
          "output_type": "stream",
          "name": "stdout",
          "text": [
            "81.05000000000001\n"
          ]
        }
      ]
    },
    {
      "cell_type": "code",
      "source": [
        "import pandas as pd\n",
        "\n",
        "# Read the data into a DataFrame\n",
        "df = pd.read_csv(\"All Stock Prices.csv\")\n",
        "\n",
        "# Calculate the IQR of the traded_shares column\n",
        "col = \"traded_shares\"\n",
        "quartiles = df[col].quantile([0.25, 0.75])\n",
        "iqr = quartiles[0.75] - quartiles[0.25]\n",
        "\n",
        "# Print the IQR to the console\n",
        "print(iqr)"
      ],
      "metadata": {
        "colab": {
          "base_uri": "https://localhost:8080/"
        },
        "id": "pV3e9qP_PCEn",
        "outputId": "b2b92803-2ea4-479b-daac-b05c696d4426"
      },
      "execution_count": 17,
      "outputs": [
        {
          "output_type": "stream",
          "name": "stdout",
          "text": [
            "310109.0\n"
          ]
        }
      ]
    },
    {
      "cell_type": "code",
      "source": [
        "import pandas as pd\n",
        "\n",
        "# Read the data into a DataFrame\n",
        "df = pd.read_csv(\"All Stock Prices.csv\")\n",
        "\n",
        "# Calculate the correlation coefficient between the opening_price and closing_price columns\n",
        "correlation_coefficient = df['opening_price'].corr(df['closing_price'])\n",
        "\n",
        "# Print the correlation coefficient to the console\n",
        "print(correlation_coefficient)"
      ],
      "metadata": {
        "colab": {
          "base_uri": "https://localhost:8080/"
        },
        "id": "1oNfZSfTPVjB",
        "outputId": "673ed7d1-cebb-423a-dba8-f759c6a1e0a5"
      },
      "execution_count": 19,
      "outputs": [
        {
          "output_type": "stream",
          "name": "stdout",
          "text": [
            "0.9999865331871072\n"
          ]
        }
      ]
    },
    {
      "cell_type": "code",
      "source": [
        "import pandas as pd\n",
        "\n",
        "# Read the data into a DataFrame\n",
        "df = pd.read_csv(\"All Stock Prices.csv\")\n",
        "\n",
        "# Calculate the correlation coefficient between the opening_price and closing_price columns\n",
        "correlation_coefficient = df['highest_price'].corr(df['lowest_price'])\n",
        "\n",
        "# Print the correlation coefficient to the console\n",
        "print(correlation_coefficient)"
      ],
      "metadata": {
        "colab": {
          "base_uri": "https://localhost:8080/"
        },
        "id": "hZVwu2slPcD2",
        "outputId": "431ad574-b862-40bf-a4f1-39b84d394166"
      },
      "execution_count": 20,
      "outputs": [
        {
          "output_type": "stream",
          "name": "stdout",
          "text": [
            "0.999982590608518\n"
          ]
        }
      ]
    },
    {
      "cell_type": "code",
      "source": [
        "import pandas as pd\n",
        "\n",
        "# Read the data into a DataFrame\n",
        "df = pd.read_csv(\"All Stock Prices.csv\")\n",
        "\n",
        "# Calculate the correlation coefficient between the opening_price and closing_price columns\n",
        "correlation_coefficient = df['adjusted_closing_price'].corr(df['traded_shares'])\n",
        "\n",
        "# Print the correlation coefficient to the console\n",
        "print(correlation_coefficient)"
      ],
      "metadata": {
        "colab": {
          "base_uri": "https://localhost:8080/"
        },
        "id": "8lRGhPOSPg62",
        "outputId": "9b05978f-e64b-48ab-b6b0-cea77e760edb"
      },
      "execution_count": 21,
      "outputs": [
        {
          "output_type": "stream",
          "name": "stdout",
          "text": [
            "-0.0005942450596855492\n"
          ]
        }
      ]
    },
    {
      "cell_type": "code",
      "source": [
        "corr_matrix = data.corr()\n",
        "corr_matrix"
      ],
      "metadata": {
        "colab": {
          "base_uri": "https://localhost:8080/",
          "height": 294
        },
        "id": "V7JD-nq0PoYi",
        "outputId": "68dbaf7a-8c91-4ba6-deb0-c844307f1ef8"
      },
      "execution_count": 22,
      "outputs": [
        {
          "output_type": "stream",
          "name": "stderr",
          "text": [
            "<ipython-input-22-b20f780b4413>:1: FutureWarning: The default value of numeric_only in DataFrame.corr is deprecated. In a future version, it will default to False. Select only valid columns or specify the value of numeric_only to silence this warning.\n",
            "  corr_matrix = data.corr()\n"
          ]
        },
        {
          "output_type": "execute_result",
          "data": {
            "text/plain": [
              "                        opening_price  highest_price  lowest_price  \\\n",
              "opening_price                1.000000       1.000000      0.999987   \n",
              "highest_price                1.000000       1.000000      0.999983   \n",
              "lowest_price                 0.999987       0.999983      1.000000   \n",
              "closing_price                0.999987       0.999983      1.000000   \n",
              "adjusted_closing_price       0.999987       0.999983      1.000000   \n",
              "traded_shares               -0.000593      -0.000593     -0.000593   \n",
              "\n",
              "                        closing_price  adjusted_closing_price  traded_shares  \n",
              "opening_price                0.999987                0.999987      -0.000593  \n",
              "highest_price                0.999983                0.999983      -0.000593  \n",
              "lowest_price                 1.000000                1.000000      -0.000593  \n",
              "closing_price                1.000000                1.000000      -0.000593  \n",
              "adjusted_closing_price       1.000000                1.000000      -0.000594  \n",
              "traded_shares               -0.000593               -0.000594       1.000000  "
            ],
            "text/html": [
              "\n",
              "  <div id=\"df-00c5afc2-c9fb-464b-9456-53226c9a1cdd\" class=\"colab-df-container\">\n",
              "    <div>\n",
              "<style scoped>\n",
              "    .dataframe tbody tr th:only-of-type {\n",
              "        vertical-align: middle;\n",
              "    }\n",
              "\n",
              "    .dataframe tbody tr th {\n",
              "        vertical-align: top;\n",
              "    }\n",
              "\n",
              "    .dataframe thead th {\n",
              "        text-align: right;\n",
              "    }\n",
              "</style>\n",
              "<table border=\"1\" class=\"dataframe\">\n",
              "  <thead>\n",
              "    <tr style=\"text-align: right;\">\n",
              "      <th></th>\n",
              "      <th>opening_price</th>\n",
              "      <th>highest_price</th>\n",
              "      <th>lowest_price</th>\n",
              "      <th>closing_price</th>\n",
              "      <th>adjusted_closing_price</th>\n",
              "      <th>traded_shares</th>\n",
              "    </tr>\n",
              "  </thead>\n",
              "  <tbody>\n",
              "    <tr>\n",
              "      <th>opening_price</th>\n",
              "      <td>1.000000</td>\n",
              "      <td>1.000000</td>\n",
              "      <td>0.999987</td>\n",
              "      <td>0.999987</td>\n",
              "      <td>0.999987</td>\n",
              "      <td>-0.000593</td>\n",
              "    </tr>\n",
              "    <tr>\n",
              "      <th>highest_price</th>\n",
              "      <td>1.000000</td>\n",
              "      <td>1.000000</td>\n",
              "      <td>0.999983</td>\n",
              "      <td>0.999983</td>\n",
              "      <td>0.999983</td>\n",
              "      <td>-0.000593</td>\n",
              "    </tr>\n",
              "    <tr>\n",
              "      <th>lowest_price</th>\n",
              "      <td>0.999987</td>\n",
              "      <td>0.999983</td>\n",
              "      <td>1.000000</td>\n",
              "      <td>1.000000</td>\n",
              "      <td>1.000000</td>\n",
              "      <td>-0.000593</td>\n",
              "    </tr>\n",
              "    <tr>\n",
              "      <th>closing_price</th>\n",
              "      <td>0.999987</td>\n",
              "      <td>0.999983</td>\n",
              "      <td>1.000000</td>\n",
              "      <td>1.000000</td>\n",
              "      <td>1.000000</td>\n",
              "      <td>-0.000593</td>\n",
              "    </tr>\n",
              "    <tr>\n",
              "      <th>adjusted_closing_price</th>\n",
              "      <td>0.999987</td>\n",
              "      <td>0.999983</td>\n",
              "      <td>1.000000</td>\n",
              "      <td>1.000000</td>\n",
              "      <td>1.000000</td>\n",
              "      <td>-0.000594</td>\n",
              "    </tr>\n",
              "    <tr>\n",
              "      <th>traded_shares</th>\n",
              "      <td>-0.000593</td>\n",
              "      <td>-0.000593</td>\n",
              "      <td>-0.000593</td>\n",
              "      <td>-0.000593</td>\n",
              "      <td>-0.000594</td>\n",
              "      <td>1.000000</td>\n",
              "    </tr>\n",
              "  </tbody>\n",
              "</table>\n",
              "</div>\n",
              "    <div class=\"colab-df-buttons\">\n",
              "\n",
              "  <div class=\"colab-df-container\">\n",
              "    <button class=\"colab-df-convert\" onclick=\"convertToInteractive('df-00c5afc2-c9fb-464b-9456-53226c9a1cdd')\"\n",
              "            title=\"Convert this dataframe to an interactive table.\"\n",
              "            style=\"display:none;\">\n",
              "\n",
              "  <svg xmlns=\"http://www.w3.org/2000/svg\" height=\"24px\" viewBox=\"0 -960 960 960\">\n",
              "    <path d=\"M120-120v-720h720v720H120Zm60-500h600v-160H180v160Zm220 220h160v-160H400v160Zm0 220h160v-160H400v160ZM180-400h160v-160H180v160Zm440 0h160v-160H620v160ZM180-180h160v-160H180v160Zm440 0h160v-160H620v160Z\"/>\n",
              "  </svg>\n",
              "    </button>\n",
              "\n",
              "  <style>\n",
              "    .colab-df-container {\n",
              "      display:flex;\n",
              "      gap: 12px;\n",
              "    }\n",
              "\n",
              "    .colab-df-convert {\n",
              "      background-color: #E8F0FE;\n",
              "      border: none;\n",
              "      border-radius: 50%;\n",
              "      cursor: pointer;\n",
              "      display: none;\n",
              "      fill: #1967D2;\n",
              "      height: 32px;\n",
              "      padding: 0 0 0 0;\n",
              "      width: 32px;\n",
              "    }\n",
              "\n",
              "    .colab-df-convert:hover {\n",
              "      background-color: #E2EBFA;\n",
              "      box-shadow: 0px 1px 2px rgba(60, 64, 67, 0.3), 0px 1px 3px 1px rgba(60, 64, 67, 0.15);\n",
              "      fill: #174EA6;\n",
              "    }\n",
              "\n",
              "    .colab-df-buttons div {\n",
              "      margin-bottom: 4px;\n",
              "    }\n",
              "\n",
              "    [theme=dark] .colab-df-convert {\n",
              "      background-color: #3B4455;\n",
              "      fill: #D2E3FC;\n",
              "    }\n",
              "\n",
              "    [theme=dark] .colab-df-convert:hover {\n",
              "      background-color: #434B5C;\n",
              "      box-shadow: 0px 1px 3px 1px rgba(0, 0, 0, 0.15);\n",
              "      filter: drop-shadow(0px 1px 2px rgba(0, 0, 0, 0.3));\n",
              "      fill: #FFFFFF;\n",
              "    }\n",
              "  </style>\n",
              "\n",
              "    <script>\n",
              "      const buttonEl =\n",
              "        document.querySelector('#df-00c5afc2-c9fb-464b-9456-53226c9a1cdd button.colab-df-convert');\n",
              "      buttonEl.style.display =\n",
              "        google.colab.kernel.accessAllowed ? 'block' : 'none';\n",
              "\n",
              "      async function convertToInteractive(key) {\n",
              "        const element = document.querySelector('#df-00c5afc2-c9fb-464b-9456-53226c9a1cdd');\n",
              "        const dataTable =\n",
              "          await google.colab.kernel.invokeFunction('convertToInteractive',\n",
              "                                                    [key], {});\n",
              "        if (!dataTable) return;\n",
              "\n",
              "        const docLinkHtml = 'Like what you see? Visit the ' +\n",
              "          '<a target=\"_blank\" href=https://colab.research.google.com/notebooks/data_table.ipynb>data table notebook</a>'\n",
              "          + ' to learn more about interactive tables.';\n",
              "        element.innerHTML = '';\n",
              "        dataTable['output_type'] = 'display_data';\n",
              "        await google.colab.output.renderOutput(dataTable, element);\n",
              "        const docLink = document.createElement('div');\n",
              "        docLink.innerHTML = docLinkHtml;\n",
              "        element.appendChild(docLink);\n",
              "      }\n",
              "    </script>\n",
              "  </div>\n",
              "\n",
              "\n",
              "<div id=\"df-89fdff65-7aa5-43b3-bacb-ea0436aa0df8\">\n",
              "  <button class=\"colab-df-quickchart\" onclick=\"quickchart('df-89fdff65-7aa5-43b3-bacb-ea0436aa0df8')\"\n",
              "            title=\"Suggest charts\"\n",
              "            style=\"display:none;\">\n",
              "\n",
              "<svg xmlns=\"http://www.w3.org/2000/svg\" height=\"24px\"viewBox=\"0 0 24 24\"\n",
              "     width=\"24px\">\n",
              "    <g>\n",
              "        <path d=\"M19 3H5c-1.1 0-2 .9-2 2v14c0 1.1.9 2 2 2h14c1.1 0 2-.9 2-2V5c0-1.1-.9-2-2-2zM9 17H7v-7h2v7zm4 0h-2V7h2v10zm4 0h-2v-4h2v4z\"/>\n",
              "    </g>\n",
              "</svg>\n",
              "  </button>\n",
              "\n",
              "<style>\n",
              "  .colab-df-quickchart {\n",
              "      --bg-color: #E8F0FE;\n",
              "      --fill-color: #1967D2;\n",
              "      --hover-bg-color: #E2EBFA;\n",
              "      --hover-fill-color: #174EA6;\n",
              "      --disabled-fill-color: #AAA;\n",
              "      --disabled-bg-color: #DDD;\n",
              "  }\n",
              "\n",
              "  [theme=dark] .colab-df-quickchart {\n",
              "      --bg-color: #3B4455;\n",
              "      --fill-color: #D2E3FC;\n",
              "      --hover-bg-color: #434B5C;\n",
              "      --hover-fill-color: #FFFFFF;\n",
              "      --disabled-bg-color: #3B4455;\n",
              "      --disabled-fill-color: #666;\n",
              "  }\n",
              "\n",
              "  .colab-df-quickchart {\n",
              "    background-color: var(--bg-color);\n",
              "    border: none;\n",
              "    border-radius: 50%;\n",
              "    cursor: pointer;\n",
              "    display: none;\n",
              "    fill: var(--fill-color);\n",
              "    height: 32px;\n",
              "    padding: 0;\n",
              "    width: 32px;\n",
              "  }\n",
              "\n",
              "  .colab-df-quickchart:hover {\n",
              "    background-color: var(--hover-bg-color);\n",
              "    box-shadow: 0 1px 2px rgba(60, 64, 67, 0.3), 0 1px 3px 1px rgba(60, 64, 67, 0.15);\n",
              "    fill: var(--button-hover-fill-color);\n",
              "  }\n",
              "\n",
              "  .colab-df-quickchart-complete:disabled,\n",
              "  .colab-df-quickchart-complete:disabled:hover {\n",
              "    background-color: var(--disabled-bg-color);\n",
              "    fill: var(--disabled-fill-color);\n",
              "    box-shadow: none;\n",
              "  }\n",
              "\n",
              "  .colab-df-spinner {\n",
              "    border: 2px solid var(--fill-color);\n",
              "    border-color: transparent;\n",
              "    border-bottom-color: var(--fill-color);\n",
              "    animation:\n",
              "      spin 1s steps(1) infinite;\n",
              "  }\n",
              "\n",
              "  @keyframes spin {\n",
              "    0% {\n",
              "      border-color: transparent;\n",
              "      border-bottom-color: var(--fill-color);\n",
              "      border-left-color: var(--fill-color);\n",
              "    }\n",
              "    20% {\n",
              "      border-color: transparent;\n",
              "      border-left-color: var(--fill-color);\n",
              "      border-top-color: var(--fill-color);\n",
              "    }\n",
              "    30% {\n",
              "      border-color: transparent;\n",
              "      border-left-color: var(--fill-color);\n",
              "      border-top-color: var(--fill-color);\n",
              "      border-right-color: var(--fill-color);\n",
              "    }\n",
              "    40% {\n",
              "      border-color: transparent;\n",
              "      border-right-color: var(--fill-color);\n",
              "      border-top-color: var(--fill-color);\n",
              "    }\n",
              "    60% {\n",
              "      border-color: transparent;\n",
              "      border-right-color: var(--fill-color);\n",
              "    }\n",
              "    80% {\n",
              "      border-color: transparent;\n",
              "      border-right-color: var(--fill-color);\n",
              "      border-bottom-color: var(--fill-color);\n",
              "    }\n",
              "    90% {\n",
              "      border-color: transparent;\n",
              "      border-bottom-color: var(--fill-color);\n",
              "    }\n",
              "  }\n",
              "</style>\n",
              "\n",
              "  <script>\n",
              "    async function quickchart(key) {\n",
              "      const quickchartButtonEl =\n",
              "        document.querySelector('#' + key + ' button');\n",
              "      quickchartButtonEl.disabled = true;  // To prevent multiple clicks.\n",
              "      quickchartButtonEl.classList.add('colab-df-spinner');\n",
              "      try {\n",
              "        const charts = await google.colab.kernel.invokeFunction(\n",
              "            'suggestCharts', [key], {});\n",
              "      } catch (error) {\n",
              "        console.error('Error during call to suggestCharts:', error);\n",
              "      }\n",
              "      quickchartButtonEl.classList.remove('colab-df-spinner');\n",
              "      quickchartButtonEl.classList.add('colab-df-quickchart-complete');\n",
              "    }\n",
              "    (() => {\n",
              "      let quickchartButtonEl =\n",
              "        document.querySelector('#df-89fdff65-7aa5-43b3-bacb-ea0436aa0df8 button');\n",
              "      quickchartButtonEl.style.display =\n",
              "        google.colab.kernel.accessAllowed ? 'block' : 'none';\n",
              "    })();\n",
              "  </script>\n",
              "</div>\n",
              "    </div>\n",
              "  </div>\n"
            ]
          },
          "metadata": {},
          "execution_count": 22
        }
      ]
    },
    {
      "cell_type": "code",
      "source": [
        "print(data['opening_price'].corr(data['closing_price']))"
      ],
      "metadata": {
        "colab": {
          "base_uri": "https://localhost:8080/"
        },
        "id": "gKYSqj6gPrMO",
        "outputId": "ce59d8f7-eb94-4cef-ca5d-a9ce5707241a"
      },
      "execution_count": 23,
      "outputs": [
        {
          "output_type": "stream",
          "name": "stdout",
          "text": [
            "0.9999865331871072\n"
          ]
        }
      ]
    },
    {
      "cell_type": "code",
      "source": [
        "import pandas as pd\n",
        "import seaborn as sns\n",
        "\n",
        "# Read the data into a DataFrame\n",
        "df = pd.read_csv(\"All Stock Prices.csv\")\n",
        "\n",
        "# Create a scatter plot of the opening_price and closing_price columns\n",
        "sns.scatterplot(x=\"opening_price\", y=\"closing_price\", data=df)\n",
        "\n",
        "# Show the scatter plot\n",
        "plt.show()\n"
      ],
      "metadata": {
        "colab": {
          "base_uri": "https://localhost:8080/",
          "height": 465
        },
        "id": "ull4n9ZjPu_h",
        "outputId": "591124cf-554f-468c-849f-39da47790a92"
      },
      "execution_count": 24,
      "outputs": [
        {
          "output_type": "display_data",
          "data": {
            "text/plain": [
              "<Figure size 640x480 with 1 Axes>"
            ],
            "image/png": "[encoded data removed]"
          },
          "metadata": {}
        }
      ]
    },
    {
      "cell_type": "code",
      "source": [
        "print(data['highest_price'].corr(data['lowest_price']))"
      ],
      "metadata": {
        "colab": {
          "base_uri": "https://localhost:8080/"
        },
        "id": "gwM_x940P15Z",
        "outputId": "87676117-17bb-4e03-a44c-a23f4ed95c7b"
      },
      "execution_count": 25,
      "outputs": [
        {
          "output_type": "stream",
          "name": "stdout",
          "text": [
            "0.999982590608518\n"
          ]
        }
      ]
    },
    {
      "cell_type": "code",
      "source": [
        "import pandas as pd\n",
        "import seaborn as sns\n",
        "\n",
        "# Read the data into a DataFrame\n",
        "df = pd.read_csv(\"All Stock Prices.csv\")\n",
        "\n",
        "# Create a scatter plot of the highest_price and lowest_price columns\n",
        "sns.scatterplot(x=\"highest_price\", y=\"lowest_price\", data=df)\n",
        "\n",
        "# Show the scatter plot\n",
        "plt.show()"
      ],
      "metadata": {
        "colab": {
          "base_uri": "https://localhost:8080/",
          "height": 465
        },
        "id": "YPPkVylCP4Fa",
        "outputId": "05e575e1-fbf9-4b9a-d439-5cd6bf93c21e"
      },
      "execution_count": 26,
      "outputs": [
        {
          "output_type": "display_data",
          "data": {
            "text/plain": [
              "<Figure size 640x480 with 1 Axes>"
            ],
            "image/png": "[encoded data removed]"
          },
          "metadata": {}
        }
      ]
    },
    {
      "cell_type": "code",
      "source": [
        "print(data['adjusted_closing_price'].corr(data['traded_shares']))"
      ],
      "metadata": {
        "colab": {
          "base_uri": "https://localhost:8080/"
        },
        "id": "uPGqtEm_P7CZ",
        "outputId": "62bfe3e4-1ae9-4b66-9e38-b57da7dac5dc"
      },
      "execution_count": 27,
      "outputs": [
        {
          "output_type": "stream",
          "name": "stdout",
          "text": [
            "-0.0005942450596855492\n"
          ]
        }
      ]
    },
    {
      "cell_type": "code",
      "source": [
        "import pandas as pd\n",
        "import seaborn as sns\n",
        "\n",
        "# Read the data into a DataFrame\n",
        "df = pd.read_csv(\"All Stock Prices.csv\")\n",
        "\n",
        "# Create a scatter plot of the opening_price and closing_price columns\n",
        "sns.scatterplot(x=\"adjusted_closing_price\", y=\"traded_shares\", data=df)\n",
        "\n",
        "# Show the scatter plot\n",
        "plt.show()"
      ],
      "metadata": {
        "colab": {
          "base_uri": "https://localhost:8080/",
          "height": 465
        },
        "id": "Ja85vPV2P_oz",
        "outputId": "b10edd40-4f7b-44a0-c407-fce8d40eebc0"
      },
      "execution_count": 28,
      "outputs": [
        {
          "output_type": "display_data",
          "data": {
            "text/plain": [
              "<Figure size 640x480 with 1 Axes>"
            ],
            "image/png": "[encoded data removed]"
          },
          "metadata": {}
        }
      ]
    }
  ]
}